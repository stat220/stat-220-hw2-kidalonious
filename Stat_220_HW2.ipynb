{
  "cells": [
    {
      "cell_type": "markdown",
      "metadata": {
        "id": "_OqKG_qm_G7I"
      },
      "source": [
        "[![Open in Colab](https://colab.research.google.com/assets/colab-badge.svg)](https://colab.research.google.com/github/drbob-richardson/stat220/blob/main/Assignments/Stat_220_HW2.ipynb)"
      ]
    },
    {
      "cell_type": "markdown",
      "metadata": {
        "id": "p0Jeg70FvG6D"
      },
      "source": [
        "**Problem 1** A baseball player has a batting average of .240 against right handed pitchers and .375 against left handed pitchers. A batting average can be thought of as the probability they will get a hit."
      ]
    },
    {
      "cell_type": "markdown",
      "metadata": {
        "id": "mjW2p9LywoQ_"
      },
      "source": [
        "Part a. What is the probability the baseball player gets 3 out of 4 hits against a right handed pitcher?"
      ]
    },
    {
      "cell_type": "code",
      "source": [
        "import numpy as np\n",
        "import math"
      ],
      "metadata": {
        "id": "S5QKbqN6AOzn"
      },
      "execution_count": 3,
      "outputs": []
    },
    {
      "cell_type": "code",
      "execution_count": 4,
      "metadata": {
        "id": "8-JI8OPxwu4r",
        "outputId": "90a1221a-34ff-44fe-e90a-c0223f66035b",
        "colab": {
          "base_uri": "https://localhost:8080/"
        }
      },
      "outputs": [
        {
          "output_type": "stream",
          "name": "stdout",
          "text": [
            "As a percentage: 4.202495999999999%\n",
            "As a decimal: 0.04202495999999999\n"
          ]
        }
      ],
      "source": [
        "def binomial_distribution(p, n, k):\n",
        "  return math.comb(n,k)*(p**k)*((1-p)**(n-k))\n",
        "right_chance = binomial_distribution(.24, 4, 3)\n",
        "print(f\"As a percentage: {right_chance * 100}%\")\n",
        "print(f\"As a decimal: {right_chance}\")"
      ]
    },
    {
      "cell_type": "markdown",
      "metadata": {
        "id": "iuq4VdwYwvO9"
      },
      "source": [
        "Part b. What is the probability the baseball gets 3 out of 4 hits against a left handed pitcher."
      ]
    },
    {
      "cell_type": "code",
      "execution_count": 5,
      "metadata": {
        "id": "Us2ZnQSlw0x_",
        "outputId": "57ec1b0f-b627-46f0-c62b-12cac8c63ed6",
        "colab": {
          "base_uri": "https://localhost:8080/"
        }
      },
      "outputs": [
        {
          "output_type": "stream",
          "name": "stdout",
          "text": [
            "As a percentage: 13.18359375%\n",
            "As a decimal: 0.1318359375\n"
          ]
        }
      ],
      "source": [
        "left_chance = binomial_distribution(.375, 4, 3)\n",
        "print(f\"As a percentage: {left_chance * 100}%\")\n",
        "print(f\"As a decimal: {left_chance}\")"
      ]
    },
    {
      "cell_type": "markdown",
      "metadata": {
        "id": "QXJfKQHBxgR6"
      },
      "source": [
        "Part c. The baseball player gets 3 out of 4 hits against a randomly chosen pitcher. Based on these results, what would you assume about what hand the pitcher uses?"
      ]
    },
    {
      "cell_type": "markdown",
      "metadata": {
        "id": "VeEcIBCxxqPn"
      },
      "source": [
        "There is a higher chance that pitcher is left handed because the batter has a higher average against left handed pitchers."
      ]
    },
    {
      "cell_type": "markdown",
      "metadata": {
        "id": "SDGIExslxGCv"
      },
      "source": [
        "Part d. Assume that the pitcher is randomly chosen from the team where 80% of the pitchers are right handed. Use Bayes rule to determine the probability the pitcher is right handed given that the batter hits 3 out of 4 pitches."
      ]
    },
    {
      "cell_type": "markdown",
      "source": [
        "P(Right | 3/4) = P(3/4 | Right) * P(Right) / P(3/4 | Right) * P(Right) + P(3/4 | Left) * P(Left)"
      ],
      "metadata": {
        "id": "HLCOZh-MC24u"
      }
    },
    {
      "cell_type": "code",
      "execution_count": 6,
      "metadata": {
        "id": "n76xVOIaxsoX",
        "outputId": "9f8cff5b-7cd2-45bf-aa8f-259980faee19",
        "colab": {
          "base_uri": "https://localhost:8080/"
        }
      },
      "outputs": [
        {
          "output_type": "stream",
          "name": "stdout",
          "text": [
            "As a percentage: 56.04527789286492%\n",
            "As a decimal: 0.5604527789286492\n"
          ]
        }
      ],
      "source": [
        "def bayes_theorem(p_a, p_b_given_a, p_b):\n",
        "\treturn p_b_given_a * p_a / (p_b_given_a * p_a + p_b * (1-p_a))\n",
        "right_given_3 = bayes_theorem(.8, right_chance, left_chance)\n",
        "print(f\"As a percentage: {right_given_3 * 100}%\")\n",
        "print(f\"As a decimal: {right_given_3}\")"
      ]
    },
    {
      "cell_type": "markdown",
      "metadata": {
        "id": "u6z8NiewxxoP"
      },
      "source": [
        "**Problem 2** The probability of rain in Arizona on a randomly chosen day of the year is 5%. A researcher started a study on rain in Arizona and noted 3 days in a row of rain. The researcher calculated the probability of this in the following way:\n",
        "\n",
        "Pr(3 days of rain) = Pr(1 day of rain)^3 = .05^3 = .000125\n",
        "\n",
        "The researcher was so excited about finding such a rare event that he published his results. You write a scathing review of his publication stating he made a poor assumption about rain. What did the researcher get wrong?\n"
      ]
    },
    {
      "cell_type": "markdown",
      "metadata": {
        "id": "JldplVYsUYyA"
      },
      "source": [
        "The chance of rain 3 days in a row is independent of the chance of rain from the day before. It should be P(3 days of rain) = P(day 1 rain) * P(day 2 of rain) * P(day 3 of rain)"
      ]
    },
    {
      "cell_type": "markdown",
      "metadata": {
        "id": "xOmMCaJQzUAd"
      },
      "source": [
        "**Problem 3** A stock trader is examining stocks. Let event A be the event that Stock A falls. Let event B be the event that Stock B falls. Assume the following.\n",
        "\n",
        "*   Pr(A) = 0.4\n",
        "*   Pr(B) = 0.25\n",
        "*   Pr(A and B) = 0.15\n"
      ]
    },
    {
      "cell_type": "markdown",
      "metadata": {
        "id": "cXuzb3Kn2mIh"
      },
      "source": [
        "Part a. What is the probability that either events A or B happen?"
      ]
    },
    {
      "cell_type": "code",
      "execution_count": 7,
      "metadata": {
        "id": "gdTGwVnR2qaZ",
        "outputId": "cf480c80-b13e-49ad-b45c-02235fea7e93",
        "colab": {
          "base_uri": "https://localhost:8080/"
        }
      },
      "outputs": [
        {
          "output_type": "execute_result",
          "data": {
            "text/plain": [
              "0.5"
            ]
          },
          "metadata": {},
          "execution_count": 7
        }
      ],
      "source": [
        "def p_a_or_b(p_a, p_b, p_a_and_b):\n",
        "  return p_a + p_b - p_a_and_b\n",
        "p_a_or_b(.4, .25, .15)"
      ]
    },
    {
      "cell_type": "markdown",
      "metadata": {
        "id": "mmS34xQ82qyK"
      },
      "source": [
        "Part b. From this, can you make statement as to whether or not events A and B are mutually exclusive?"
      ]
    },
    {
      "cell_type": "markdown",
      "metadata": {
        "id": "2cwug_8S_G7M"
      },
      "source": [
        "It seems like they are not mutually exclusive, or else the chances of 1 or the other happening would be much higher."
      ]
    },
    {
      "cell_type": "markdown",
      "metadata": {
        "id": "d0Vyuz2i_G7M"
      },
      "source": [
        "Part c. What can you say about if events A and B are independent?"
      ]
    },
    {
      "cell_type": "markdown",
      "metadata": {
        "id": "6ZilKRvu_G7M"
      },
      "source": [
        "They do seem independent because there is a 50% chance of either one happening at any given time."
      ]
    },
    {
      "cell_type": "markdown",
      "metadata": {
        "id": "Uhv41ow1swdd"
      },
      "source": [
        "**Problem 4** Each time a person shops at a grocery store, the event of catching a cold or some other virus from another shopper is independent from visit to visit and has a constant probability over the year, equal to 0.01."
      ]
    },
    {
      "cell_type": "markdown",
      "metadata": {
        "id": "3cN1ISlms2X-"
      },
      "source": [
        "Part a. In 100 trips to this store over the course of a year, the probability of catching a virus while shopping there is 100(0.01) = 1.0. What is wrong with this reasoning?"
      ]
    },
    {
      "cell_type": "markdown",
      "metadata": {
        "id": "5P6uZCAss74u"
      },
      "source": [
        "The probability of catching a cold or other virus is independent trip to trip. Each trip does not make it more likely that you will catch a cold or other virus on the next trip. Thus you need to distribute the .01 chance to each of the 100 trips individually instead of multiplying it by the 100 trips."
      ]
    },
    {
      "cell_type": "markdown",
      "metadata": {
        "id": "xkfLkFiys8lO"
      },
      "source": [
        "Part b. Find the correct probability in (a)."
      ]
    },
    {
      "cell_type": "code",
      "execution_count": 9,
      "metadata": {
        "id": "lCdV9U4ZWECf",
        "outputId": "ed1957a1-a014-48ee-e68d-6e2a1626a37a",
        "colab": {
          "base_uri": "https://localhost:8080/"
        }
      },
      "outputs": [
        {
          "output_type": "execute_result",
          "data": {
            "text/plain": [
              "0.36972963764972644"
            ]
          },
          "metadata": {},
          "execution_count": 9
        }
      ],
      "source": [
        "binomial_distribution(.01, 100, 1)"
      ]
    },
    {
      "cell_type": "markdown",
      "metadata": {
        "id": "1nUUpZ8qSW3_"
      },
      "source": [
        "Part c. Determine the expected number of days someone would go to a grocery store before they catch a cold or some other virus."
      ]
    },
    {
      "cell_type": "code",
      "source": [
        "def geometric_distribution(p):\n",
        "  return 1 / p\n",
        "geometric_distribution(.01)"
      ],
      "metadata": {
        "id": "0UKE-Sns66WM",
        "outputId": "cdb9d6ad-ec56-4c92-a2ee-03b194bd0c63",
        "colab": {
          "base_uri": "https://localhost:8080/"
        }
      },
      "execution_count": 11,
      "outputs": [
        {
          "output_type": "execute_result",
          "data": {
            "text/plain": [
              "100.0"
            ]
          },
          "metadata": {},
          "execution_count": 11
        }
      ]
    },
    {
      "cell_type": "markdown",
      "metadata": {
        "id": "4QE2cv4juKMj"
      },
      "source": [
        "**Problem 5** A quiz has twelve multiple-choice questions, with four possible answers for each. A student who is completely unprepared randomly guesses the answer for each question. Let Y denote the number of correct responses"
      ]
    },
    {
      "cell_type": "markdown",
      "metadata": {
        "id": "jZo_fttw_G7M"
      },
      "source": [
        "Part a. What is the name of the distribution that can be used to determine the number of questionsd guessed correctly? What are the parameters of this distribution?"
      ]
    },
    {
      "cell_type": "markdown",
      "metadata": {
        "id": "_TALx1JN_G7N"
      },
      "source": [
        "This would be a binomial distribution. This is because there is binary output, the student either gets the question wrong or right. Each quiz question has a fixed independent probability of being either correct or incorrect. There is also a fixed number of questions in the domain of the problem."
      ]
    },
    {
      "cell_type": "markdown",
      "metadata": {
        "id": "tWDxpF7yuZcR"
      },
      "source": [
        "Part b. Find the probability that the students gets (i) all 12, (ii) none of the questions correct."
      ]
    },
    {
      "cell_type": "code",
      "execution_count": 14,
      "metadata": {
        "id": "BIiWMzxRtpFm",
        "outputId": "423c112a-7312-4427-f2c0-0ba6e94a6ff8",
        "colab": {
          "base_uri": "https://localhost:8080/"
        }
      },
      "outputs": [
        {
          "output_type": "stream",
          "name": "stdout",
          "text": [
            "Chances of 12/12 correct: 5.960464477539063e-08\n",
            "Chances of 0/12 correct: 0.03167635202407837\n"
          ]
        }
      ],
      "source": [
        "chance_all_correct = binomial_distribution(1/4, 12, 12)\n",
        "chance_none_correct = binomial_distribution(1/4, 12, 0)\n",
        "print(f\"Chances of 12/12 correct: {chance_all_correct}\")\n",
        "print(f\"Chances of 0/12 correct: {chance_none_correct}\")"
      ]
    },
    {
      "cell_type": "markdown",
      "metadata": {
        "id": "DBlsLI82_G7N"
      },
      "source": [
        "Part c. What is the expected value and variance of the number of questions guessed correctly?"
      ]
    },
    {
      "cell_type": "code",
      "execution_count": 15,
      "metadata": {
        "id": "eH9VKpRF_G7N",
        "outputId": "d8fc9def-1b0e-43ec-f74e-773d8379c259",
        "colab": {
          "base_uri": "https://localhost:8080/"
        }
      },
      "outputs": [
        {
          "output_type": "stream",
          "name": "stdout",
          "text": [
            "Expected value: 3.0\n",
            "Variance: 2.25\n"
          ]
        }
      ],
      "source": [
        "expected_value = 12 * .25\n",
        "variance = 12 * .25 * (1-.25)\n",
        "print(f\"Expected value: {expected_value}\")\n",
        "print(f\"Variance: {variance}\")"
      ]
    }
  ],
  "metadata": {
    "colab": {
      "provenance": []
    },
    "kernelspec": {
      "display_name": "Python 3",
      "name": "python3"
    },
    "language_info": {
      "name": "python"
    }
  },
  "nbformat": 4,
  "nbformat_minor": 0
}